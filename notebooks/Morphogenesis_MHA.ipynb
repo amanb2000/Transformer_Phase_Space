{
 "cells": [
  {
   "cell_type": "markdown",
   "metadata": {},
   "source": [
    "# Morphogenesis with Attention/Transformer Cellular Automata\n",
    "\n",
    "Let's use the code from `Render_MHA.ipynb` to train self-assembly into a particle system with dynamics defined by a multi-head attention block. \n",
    "\n",
    "We will compute the $\\ell_2$ distance between the target image and the particle system projection (Gaussian bitmap) and optimize the weights accordingly. \n",
    "\n",
    "I honestly don't know if the single MHA will be able to do it -- or if we will need multiple layers. I have a hunch that we can do this with an MHA and a non-linearity given enough latent states. "
   ]
  },
  {
   "cell_type": "code",
   "execution_count": 1,
   "metadata": {},
   "outputs": [
    {
     "name": "stdout",
     "output_type": "stream",
     "text": [
      "Device:  cuda\n"
     ]
    },
    {
     "name": "stderr",
     "output_type": "stream",
     "text": [
      "/home/aman/Transformer_Phase_Space/venv/lib/python3.10/site-packages/tqdm/auto.py:21: TqdmWarning: IProgress not found. Please update jupyter and ipywidgets. See https://ipywidgets.readthedocs.io/en/stable/user_install.html\n",
      "  from .autonotebook import tqdm as notebook_tqdm\n"
     ]
    }
   ],
   "source": [
    "## Import box\n",
    "import numpy as np \n",
    "import matplotlib.pyplot as plt\n",
    "\n",
    "import torch \n",
    "from torch import nn\n",
    "\n",
    "from tqdm import tqdm\n",
    "import os\n",
    "import glob \n",
    "import cv2\n",
    "\n",
    "DEVICE = 'cuda' if torch.cuda.is_available() else 'cpu'\n",
    "print(\"Device: \", DEVICE)"
   ]
  },
  {
   "cell_type": "markdown",
   "metadata": {},
   "source": [
    "## 0: Dynamical MHA Functions"
   ]
  },
  {
   "cell_type": "code",
   "execution_count": 2,
   "metadata": {},
   "outputs": [],
   "source": [
    "def RGB_render_particles_to_bitmap(X, x_res, y_res, sigma=1.0, scale_sigma=False):\n",
    "    \"\"\"\n",
    "    Renders colored particles as Gaussian distributions on an RGB bitmap.\n",
    "\n",
    "    Args:\n",
    "        X (torch.Tensor): A tensor of shape [N, d] where d >= 5, with the first two dimensions\n",
    "                          representing particle positions and the next three dimensions\n",
    "                          representing RGB colors of each particle.\n",
    "        x_res (int): The resolution of the bitmap along the x-axis.\n",
    "        y_res (int): The resolution of the bitmap along the y-axis.\n",
    "        sigma (float): The standard deviation of the Gaussians in pixels.\n",
    "        scale_sigma (bool): If True, scales sigma by the same factor as positions.\n",
    "\n",
    "    Returns:\n",
    "        torch.Tensor: An RGB bitmap of shape [x_res, y_res, 3] with rendered Gaussian\n",
    "                      distributions of particles, each colored according to its RGB value.\n",
    "    \"\"\"\n",
    "    # Initialize an empty RGB bitmap of shape [y_res, x_res, 3]\n",
    "    rgb_bitmap = torch.zeros((y_res, x_res, 3)).to(X.device)\n",
    "\n",
    "    # Scale particle positions to fit within [-1, 1]\n",
    "    min_pos = torch.min(X[:, 0:2], dim=0)[0]\n",
    "    max_pos = torch.max(X[:, 0:2], dim=0)[0]\n",
    "    scale_factor = torch.max(max_pos - min_pos) / 2\n",
    "    scaled_X = (X[:, 0:2] - (min_pos + scale_factor)) / scale_factor\n",
    "\n",
    "    # Optionally scale sigma\n",
    "    if scale_sigma:\n",
    "        sigma *= scale_factor\n",
    "\n",
    "    # Generate a meshgrid for the bitmap coordinates\n",
    "    x = torch.linspace(-1, 1, steps=x_res).to(X.device)\n",
    "    y = torch.linspace(-1, 1, steps=y_res).to(X.device)\n",
    "    xx, yy = torch.meshgrid(x, y, indexing=\"ij\")\n",
    "    # print(\"xx device: \", xx.device)\n",
    "\n",
    "    # For each particle, add its colored Gaussian distribution to the RGB bitmap\n",
    "    for i in range(X.shape[0]):\n",
    "        # Calculate Gaussian distribution\n",
    "        gx = torch.exp(-((xx - scaled_X[i, 0]) ** 2) / (2 * sigma ** 2))\n",
    "        gy = torch.exp(-((yy - scaled_X[i, 1]) ** 2) / (2 * sigma ** 2))\n",
    "        gaussian = gx * gy\n",
    "\n",
    "        # Apply color to Gaussian\n",
    "        for channel in range(3):\n",
    "            rgb_bitmap[:, :, channel] += gaussian * X[i, channel + 2]\n",
    "\n",
    "    # Normalize the RGB bitmap so the maximum Gaussian value is 1 for each channel\n",
    "    max_val = torch.max(rgb_bitmap.view(-1, 3), dim=0)[0]\n",
    "    rgb_bitmap /= max_val.clamp(min=1)  # Avoid division by zero\n",
    "\n",
    "    return rgb_bitmap"
   ]
  },
  {
   "cell_type": "code",
   "execution_count": 3,
   "metadata": {},
   "outputs": [],
   "source": [
    "def visualize_state_matrix(X_, \n",
    "                           title='State Visualization: XY-RGB State Interpretation', \n",
    "                           savename='../figs/test.png', \n",
    "                           scale_sigma=False,\n",
    "                           show=False):\n",
    "    # make the directories leading to savename if they don't exist \n",
    "    os.makedirs(os.path.dirname(savename), exist_ok=True)\n",
    "    \n",
    "    X = X_.detach().cpu()\n",
    "    bitmap = RGB_render_particles_to_bitmap(X, x_res, y_res, sigma=0.03, scale_sigma=scale_sigma)\n",
    "    plt.imshow(bitmap.numpy())\n",
    "    plt.title(title)\n",
    "    plt.savefig(savename)\n",
    "    if show:\n",
    "        plt.show()\n",
    "    plt.close()\n",
    "\n",
    "    "
   ]
  },
  {
   "cell_type": "code",
   "execution_count": 4,
   "metadata": {},
   "outputs": [],
   "source": [
    "def run_sim(state_matrix, \n",
    "            dynamics_model,\n",
    "            num_iters = 50, \n",
    "            dt = 0.02 / 100, \n",
    "            noise_factor = 0.005,\n",
    "            fig_folder=None,\n",
    "            frame_period = 2000):\n",
    "    state_tensor_list = []\n",
    "    # for i in tqdm(range(num_iters)): \n",
    "    for i in range(num_iters): \n",
    "        if i > 0: \n",
    "            state_matrix = state_tensor_list[-1]\n",
    "        \n",
    "        if type(dynamics_model) == nn.MultiheadAttention:\n",
    "            dx, _ = dynamics_model(state_matrix, state_matrix, state_matrix)\n",
    "        elif type(dynamics_model) == torch.nn.modules.transformer.TransformerEncoderLayer:\n",
    "            dx = dynamics_model(state_matrix)\n",
    "        elif type(dynamics_model) == torch.nn.modules.transformer.TransformerEncoder:\n",
    "            dx = dynamics_model(state_matrix)\n",
    "        else: \n",
    "            print(\"Type of dynamics model: \", type(dynamics_model))\n",
    "            raise ValueError(\"dynamics_model must be a nn.MultiheadAttention or nn.Transformer\")\n",
    "        # dxy = dx[:,:,0:2]\n",
    "        dxy = dx\n",
    "        # print(\"dxy shape: \", dxy.shape)\n",
    "\n",
    "        # noise up the dxy \n",
    "        noise = torch.randn_like(dxy).to(DEVICE)*noise_factor  # 0 mean, variance 1\n",
    "        dxy += noise\n",
    "\n",
    "        # let's try normalizing dxy -- right now the variance is super tight.\n",
    "        dxy_std, dxy_mean = torch.std_mean(dxy)\n",
    "        dxy = dxy - dxy_mean\n",
    "        dxy = dxy/dxy_std\n",
    "\n",
    "        # dxyrgb = torch.zeros(dx.shape).to(DEVICE) \n",
    "        dxyrgb = dxy\n",
    "\n",
    "        state_tensor_list.append(state_matrix + dxyrgb*dt)\n",
    "        \n",
    "        # savename = f'../figs/{fig_folder}/frame_{str(i).zfill(3)}.png'\n",
    "        if fig_folder is not None and i % frame_period == 0: \n",
    "            with torch.no_grad():\n",
    "                visualize_state_matrix(state_tensor_list[-1][:,0,:], \n",
    "                                    scale_sigma=True,\n",
    "                                    savename=f'../figs/{fig_folder}/frame_{str(i//frame_period).zfill(3)}.png')\n",
    "    return state_matrix, state_tensor_list\n"
   ]
  },
  {
   "cell_type": "markdown",
   "metadata": {},
   "source": [
    "## 1: Hyperparameters"
   ]
  },
  {
   "cell_type": "code",
   "execution_count": 5,
   "metadata": {},
   "outputs": [
    {
     "name": "stdout",
     "output_type": "stream",
     "text": [
      "State matrix shape (N, batch, particle_state_dim):  torch.Size([61, 1, 40])\n"
     ]
    }
   ],
   "source": [
    "## Setting up the MHA \n",
    "embed_dim = 40      # Key and query dimension expected in the input.\n",
    "key_dim = embed_dim # Expected dimension of the keys + queries\n",
    "val_dim = embed_dim # Expected dimension of the \n",
    "num_heads = 4       # Number of heads in the MHA.\n",
    "# multihead_attn = nn.MultiheadAttention(embed_dim, num_heads, kdim=key_dim, vdim=val_dim, bias=True).to(DEVICE) # value/outpu\n",
    "\n",
    "## Setting up the state matrix \n",
    "N = 61             # Number of particles/sequence length\n",
    "num_batch = 1\n",
    "state_matrix = torch.rand(N, num_batch, val_dim).to(DEVICE) # uniform [0, 1]\n",
    "print(\"State matrix shape (N, batch, particle_state_dim): \", state_matrix.shape)\n",
    "\n",
    "# Simulation time, dt, noise\n",
    "num_iters = 20\n",
    "dt = 0.02\n",
    "noise_factor = 0.0\n",
    "dropout = 0.005\n",
    "\n",
    "# Render/projection settings\n",
    "target_image_path = '../figs/target_image.png'\n",
    "x_res = 300\n",
    "y_res = 300\n",
    "frame_period = 1\n",
    "fig_folder = 'anim10'\n",
    "# frame_period = 2000\n",
    "\n",
    "n_train_steps = 200"
   ]
  },
  {
   "cell_type": "code",
   "execution_count": 6,
   "metadata": {},
   "outputs": [],
   "source": [
    "# make a transformer block with sequential multihead attention and feedforward layers\n",
    "transformer_block = nn.TransformerEncoderLayer(d_model=embed_dim, nhead=num_heads, dropout = dropout).to(DEVICE)\n",
    "transformer = nn.TransformerEncoder(transformer_block, num_layers=2).to(DEVICE)\n",
    "\n",
    "transformer_block(state_matrix).shape\n",
    "transformer(state_matrix).shape \n",
    "\n",
    "transformer_block = transformer"
   ]
  },
  {
   "cell_type": "code",
   "execution_count": 7,
   "metadata": {},
   "outputs": [
    {
     "name": "stdout",
     "output_type": "stream",
     "text": [
      "<class 'torch.nn.modules.transformer.TransformerEncoder'>\n"
     ]
    }
   ],
   "source": [
    "transformer_block\n",
    "print(type(transformer_block))\n",
    "# print(transformer_block)"
   ]
  },
  {
   "cell_type": "code",
   "execution_count": 8,
   "metadata": {},
   "outputs": [
    {
     "data": {
      "image/png": "[encoded data removed]",
      "text/plain": [
       "<Figure size 200x200 with 1 Axes>"
      ]
     },
     "metadata": {},
     "output_type": "display_data"
    },
    {
     "name": "stdout",
     "output_type": "stream",
     "text": [
      "Target image shape:  (300, 300, 3)\n",
      "Target image dtype:  float32\n",
      "Target image min/max:  0.0 0.9647059\n"
     ]
    }
   ],
   "source": [
    "# Grabbing the target image \n",
    "\n",
    "target_image = cv2.imread(target_image_path)\n",
    "target_image = cv2.cvtColor(target_image, cv2.COLOR_BGR2RGB)\n",
    "target_image = cv2.resize(target_image, (x_res, y_res))\n",
    "\n",
    "# convert to float, normalize to [0, 1]\n",
    "target_image = target_image.astype(np.float32) / 255.0\n",
    "\n",
    "# make matplotlib plot small\n",
    "plt.figure(figsize=(2, 2))\n",
    "\n",
    "plt.imshow(target_image)\n",
    "plt.title(\"Target image\")\n",
    "\n",
    "plt.show()\n",
    "print(\"Target image shape: \", target_image.shape)\n",
    "print(\"Target image dtype: \", target_image.dtype)\n",
    "print(\"Target image min/max: \", target_image.min(), target_image.max())\n",
    "\n",
    "# move to torch and to DEVICE\n",
    "target_image = torch.tensor(target_image).to(DEVICE)"
   ]
  },
  {
   "cell_type": "markdown",
   "metadata": {},
   "source": [
    "## 2: Training Loop"
   ]
  },
  {
   "cell_type": "code",
   "execution_count": 9,
   "metadata": {},
   "outputs": [
    {
     "data": {
      "text/plain": [
       "<torch.autograd.anomaly_mode.set_detect_anomaly at 0x7f12ce91fc40>"
      ]
     },
     "execution_count": 9,
     "metadata": {},
     "output_type": "execute_result"
    }
   ],
   "source": [
    "losses = []\n",
    "\n",
    "state_matrix_0 = torch.rand(N, num_batch, val_dim).to(DEVICE)\n",
    "state_matrix_0 = state_matrix_0.detach().requires_grad_()\n",
    "\n",
    "torch.autograd.set_detect_anomaly(True)"
   ]
  },
  {
   "cell_type": "code",
   "execution_count": 10,
   "metadata": {},
   "outputs": [],
   "source": [
    "loss_period = 100\n",
    "learning_rate = 0.001\n",
    "n_train_steps = 2500\n",
    "\n",
    "# (100, 0.01, 200) -> 0.051ish loss\n",
    "# (100, 0.005, 200) -> 0.049ish"
   ]
  },
  {
   "cell_type": "code",
   "execution_count": 24,
   "metadata": {},
   "outputs": [],
   "source": [
    "num_iters = 40"
   ]
  },
  {
   "cell_type": "code",
   "execution_count": 25,
   "metadata": {},
   "outputs": [
    {
     "name": "stderr",
     "output_type": "stream",
     "text": [
      "Loss: 0.0246:  19%|█▉        | 470/2500 [10:05<43:34,  1.29s/it]\n"
     ]
    },
    {
     "ename": "KeyboardInterrupt",
     "evalue": "",
     "output_type": "error",
     "traceback": [
      "\u001b[0;31m---------------------------------------------------------------------------\u001b[0m",
      "\u001b[0;31mKeyboardInterrupt\u001b[0m                         Traceback (most recent call last)",
      "Cell \u001b[0;32mIn[25], line 25\u001b[0m\n\u001b[1;32m     16\u001b[0m end_matrix, state_tensor_list \u001b[38;5;241m=\u001b[39m run_sim(state_matrix, \n\u001b[1;32m     17\u001b[0m                         transformer_block,\n\u001b[1;32m     18\u001b[0m                        num_iters \u001b[38;5;241m=\u001b[39m num_iters, \n\u001b[0;32m   (...)\u001b[0m\n\u001b[1;32m     21\u001b[0m                        fig_folder\u001b[38;5;241m=\u001b[39m\u001b[38;5;28;01mNone\u001b[39;00m,\n\u001b[1;32m     22\u001b[0m                        frame_period \u001b[38;5;241m=\u001b[39m \u001b[38;5;241m-\u001b[39m\u001b[38;5;241m1\u001b[39m)\n\u001b[1;32m     24\u001b[0m \u001b[38;5;66;03m# Render the end matrix\u001b[39;00m\n\u001b[0;32m---> 25\u001b[0m end_bitmap \u001b[38;5;241m=\u001b[39m \u001b[43mRGB_render_particles_to_bitmap\u001b[49m\u001b[43m(\u001b[49m\u001b[43mend_matrix\u001b[49m\u001b[43m[\u001b[49m\u001b[43m:\u001b[49m\u001b[43m,\u001b[49m\u001b[38;5;241;43m0\u001b[39;49m\u001b[43m,\u001b[49m\u001b[43m:\u001b[49m\u001b[43m]\u001b[49m\u001b[43m,\u001b[49m\u001b[43m \u001b[49m\n\u001b[1;32m     26\u001b[0m \u001b[43m                                            \u001b[49m\u001b[43mx_res\u001b[49m\u001b[43m,\u001b[49m\u001b[43m \u001b[49m\n\u001b[1;32m     27\u001b[0m \u001b[43m                                            \u001b[49m\u001b[43my_res\u001b[49m\u001b[43m,\u001b[49m\u001b[43m \u001b[49m\n\u001b[1;32m     28\u001b[0m \u001b[43m                                            \u001b[49m\u001b[43msigma\u001b[49m\u001b[38;5;241;43m=\u001b[39;49m\u001b[38;5;241;43m0.03\u001b[39;49m\u001b[43m,\u001b[49m\u001b[43m \u001b[49m\n\u001b[1;32m     29\u001b[0m \u001b[43m                                            \u001b[49m\u001b[43mscale_sigma\u001b[49m\u001b[38;5;241;43m=\u001b[39;49m\u001b[38;5;28;43;01mTrue\u001b[39;49;00m\u001b[43m)\u001b[49m\n\u001b[1;32m     31\u001b[0m \u001b[38;5;66;03m# print shape and datatype \u001b[39;00m\n\u001b[1;32m     32\u001b[0m \u001b[38;5;66;03m# print(\"End bitmap shape: \", end_bitmap.shape)\u001b[39;00m\n\u001b[1;32m     33\u001b[0m \u001b[38;5;66;03m# print(\"End bitmap dtype: \", end_bitmap.dtype)\u001b[39;00m\n\u001b[0;32m   (...)\u001b[0m\n\u001b[1;32m     37\u001b[0m \n\u001b[1;32m     38\u001b[0m \u001b[38;5;66;03m# Compute loss with target image\u001b[39;00m\n\u001b[1;32m     39\u001b[0m loss \u001b[38;5;241m=\u001b[39m torch\u001b[38;5;241m.\u001b[39mmean((end_bitmap \u001b[38;5;241m-\u001b[39m target_image) \u001b[38;5;241m*\u001b[39m\u001b[38;5;241m*\u001b[39m \u001b[38;5;241m2\u001b[39m)\n",
      "Cell \u001b[0;32mIn[2], line 41\u001b[0m, in \u001b[0;36mRGB_render_particles_to_bitmap\u001b[0;34m(X, x_res, y_res, sigma, scale_sigma)\u001b[0m\n\u001b[1;32m     38\u001b[0m \u001b[38;5;28;01mfor\u001b[39;00m i \u001b[38;5;129;01min\u001b[39;00m \u001b[38;5;28mrange\u001b[39m(X\u001b[38;5;241m.\u001b[39mshape[\u001b[38;5;241m0\u001b[39m]):\n\u001b[1;32m     39\u001b[0m     \u001b[38;5;66;03m# Calculate Gaussian distribution\u001b[39;00m\n\u001b[1;32m     40\u001b[0m     gx \u001b[38;5;241m=\u001b[39m torch\u001b[38;5;241m.\u001b[39mexp(\u001b[38;5;241m-\u001b[39m((xx \u001b[38;5;241m-\u001b[39m scaled_X[i, \u001b[38;5;241m0\u001b[39m]) \u001b[38;5;241m*\u001b[39m\u001b[38;5;241m*\u001b[39m \u001b[38;5;241m2\u001b[39m) \u001b[38;5;241m/\u001b[39m (\u001b[38;5;241m2\u001b[39m \u001b[38;5;241m*\u001b[39m sigma \u001b[38;5;241m*\u001b[39m\u001b[38;5;241m*\u001b[39m \u001b[38;5;241m2\u001b[39m))\n\u001b[0;32m---> 41\u001b[0m     gy \u001b[38;5;241m=\u001b[39m \u001b[43mtorch\u001b[49m\u001b[38;5;241;43m.\u001b[39;49m\u001b[43mexp\u001b[49m\u001b[43m(\u001b[49m\u001b[38;5;241;43m-\u001b[39;49m\u001b[43m(\u001b[49m\u001b[43m(\u001b[49m\u001b[43myy\u001b[49m\u001b[43m \u001b[49m\u001b[38;5;241;43m-\u001b[39;49m\u001b[43m \u001b[49m\u001b[43mscaled_X\u001b[49m\u001b[43m[\u001b[49m\u001b[43mi\u001b[49m\u001b[43m,\u001b[49m\u001b[43m \u001b[49m\u001b[38;5;241;43m1\u001b[39;49m\u001b[43m]\u001b[49m\u001b[43m)\u001b[49m\u001b[43m \u001b[49m\u001b[38;5;241;43m*\u001b[39;49m\u001b[38;5;241;43m*\u001b[39;49m\u001b[43m \u001b[49m\u001b[38;5;241;43m2\u001b[39;49m\u001b[43m)\u001b[49m\u001b[43m \u001b[49m\u001b[38;5;241;43m/\u001b[39;49m\u001b[43m \u001b[49m\u001b[43m(\u001b[49m\u001b[38;5;241;43m2\u001b[39;49m\u001b[43m \u001b[49m\u001b[38;5;241;43m*\u001b[39;49m\u001b[43m \u001b[49m\u001b[43msigma\u001b[49m\u001b[43m \u001b[49m\u001b[38;5;241;43m*\u001b[39;49m\u001b[38;5;241;43m*\u001b[39;49m\u001b[43m \u001b[49m\u001b[38;5;241;43m2\u001b[39;49m\u001b[43m)\u001b[49m\u001b[43m)\u001b[49m\n\u001b[1;32m     42\u001b[0m     gaussian \u001b[38;5;241m=\u001b[39m gx \u001b[38;5;241m*\u001b[39m gy\n\u001b[1;32m     44\u001b[0m     \u001b[38;5;66;03m# Apply color to Gaussian\u001b[39;00m\n",
      "File \u001b[0;32m/usr/lib/python3.10/traceback.py:209\u001b[0m, in \u001b[0;36mformat_stack\u001b[0;34m(f, limit)\u001b[0m\n\u001b[1;32m    205\u001b[0m         f \u001b[38;5;241m=\u001b[39m sys\u001b[38;5;241m.\u001b[39m_getframe()\u001b[38;5;241m.\u001b[39mf_back\n\u001b[1;32m    206\u001b[0m     print_list(extract_stack(f, limit\u001b[38;5;241m=\u001b[39mlimit), file\u001b[38;5;241m=\u001b[39mfile)\n\u001b[0;32m--> 209\u001b[0m \u001b[38;5;28;01mdef\u001b[39;00m \u001b[38;5;21mformat_stack\u001b[39m(f\u001b[38;5;241m=\u001b[39m\u001b[38;5;28;01mNone\u001b[39;00m, limit\u001b[38;5;241m=\u001b[39m\u001b[38;5;28;01mNone\u001b[39;00m):\n\u001b[1;32m    210\u001b[0m \u001b[38;5;250m    \u001b[39m\u001b[38;5;124;03m\"\"\"Shorthand for 'format_list(extract_stack(f, limit))'.\"\"\"\u001b[39;00m\n\u001b[1;32m    211\u001b[0m     \u001b[38;5;28;01mif\u001b[39;00m f \u001b[38;5;129;01mis\u001b[39;00m \u001b[38;5;28;01mNone\u001b[39;00m:\n",
      "\u001b[0;31mKeyboardInterrupt\u001b[0m: "
     ]
    }
   ],
   "source": [
    "# set up optimizer for transformer_block params\n",
    "optimizer = torch.optim.Adam(transformer_block.parameters(), lr=learning_rate)\n",
    "\n",
    "# loop thru iterations with tqdm \n",
    "pbar = tqdm(range(n_train_steps))\n",
    "\n",
    "for iter in pbar: \n",
    "    # make a random starting state matrix\n",
    "    # state_matrix = torch.rand(N, num_batch, val_dim).to(DEVICE) # uniform [0, 1]\n",
    "    # copy over state_matrix_0 to state_matrix \n",
    "    state_matrix = state_matrix_0.clone()\n",
    "    # set requires grad true\n",
    "    # state_matrix = state_matrix.detach()\n",
    "\n",
    "    # Run the dynamics\n",
    "    end_matrix, state_tensor_list = run_sim(state_matrix, \n",
    "                            transformer_block,\n",
    "                           num_iters = num_iters, \n",
    "                           dt = dt, \n",
    "                           noise_factor = noise_factor,\n",
    "                           fig_folder=None,\n",
    "                           frame_period = -1)\n",
    "    \n",
    "    # Render the end matrix\n",
    "    end_bitmap = RGB_render_particles_to_bitmap(end_matrix[:,0,:], \n",
    "                                                x_res, \n",
    "                                                y_res, \n",
    "                                                sigma=0.03, \n",
    "                                                scale_sigma=True)\n",
    "\n",
    "    # print shape and datatype \n",
    "    # print(\"End bitmap shape: \", end_bitmap.shape)\n",
    "    # print(\"End bitmap dtype: \", end_bitmap.dtype)\n",
    "\n",
    "    # Plot the end bitmap\n",
    "    # plt.imshow(end_bitmap.detach().cpu().numpy())\n",
    "\n",
    "    # Compute loss with target image\n",
    "    loss = torch.mean((end_bitmap - target_image) ** 2)\n",
    "    # cnt = 0\n",
    "    # for state_tensor in state_tensor_list: \n",
    "    #     cnt += 1\n",
    "    #     if cnt % 100 == 0:\n",
    "    #         projection = RGB_render_particles_to_bitmap(end_matrix[:,0,:], x_res, y_res, sigma=0.03, scale_sigma=True)\n",
    "    #         loss += torch.mean((projection - target_image) ** 2)\n",
    "    #     # print(\"Loss: \", loss.item())\n",
    "    # loss /= (cnt//100+1)\n",
    "    \n",
    "    # print(\"Loss: \", loss.item())\n",
    "    losses.append(loss.item())\n",
    "    pbar.set_description(f\"Loss: {loss.item():.4f}\")\n",
    "\n",
    "    # Backpropagate\n",
    "    loss.backward()\n",
    "\n",
    "    # Update the mha parameters\n",
    "    optimizer.step()\n",
    "    optimizer.zero_grad()\n",
    "    \n",
    "\n",
    "    # # Update the mha parameters\n",
    "    # with torch.no_grad():\n",
    "    #     for param in transformer_block.parameters():\n",
    "    #         param -= learning_rate * param.grad\n",
    "    #     transformer_block.zero_grad()\n",
    "\n",
    "        # optimize state_matrix \n",
    "        # state_matrix_0 -= learning_rate*.01 * state_matrix_0.grad"
   ]
  },
  {
   "cell_type": "code",
   "execution_count": 26,
   "metadata": {},
   "outputs": [
    {
     "data": {
      "image/png": "[encoded data removed]",
      "text/plain": [
       "<Figure size 640x480 with 1 Axes>"
      ]
     },
     "metadata": {},
     "output_type": "display_data"
    }
   ],
   "source": [
    "# loss plot \n",
    "plt.plot(losses)\n",
    "plt.title(\"Loss over training\")\n",
    "plt.xlabel(\"Training steps\")\n",
    "plt.ylabel(\"Loss\")\n",
    "plt.show()"
   ]
  },
  {
   "cell_type": "code",
   "execution_count": 27,
   "metadata": {},
   "outputs": [],
   "source": [
    "state_matrix.grad"
   ]
  },
  {
   "cell_type": "markdown",
   "metadata": {},
   "source": [
    "## 3: Running the Simulation/Training, Render a Video"
   ]
  },
  {
   "cell_type": "code",
   "execution_count": 35,
   "metadata": {},
   "outputs": [],
   "source": [
    "# reset output directory contents\n",
    "png_path = f'../figs/{fig_folder}/*.png'\n",
    "\n",
    "os.system(f'rm {png_path}')\n",
    "os.makedirs(f'../figs/{fig_folder}', exist_ok=True)"
   ]
  },
  {
   "cell_type": "code",
   "execution_count": 36,
   "metadata": {},
   "outputs": [],
   "source": [
    "# re-initialize state_matrix \n",
    "# state_matrix_0 = torch.rand(N+1, num_batch, val_dim).to(DEVICE)\n",
    "state_matrix = state_matrix_0.clone()"
   ]
  },
  {
   "cell_type": "code",
   "execution_count": 37,
   "metadata": {},
   "outputs": [
    {
     "name": "stderr",
     "output_type": "stream",
     "text": [
      "Clipping input data to the valid range for imshow with RGB data ([0..1] for floats or [0..255] for integers).\n",
      "Clipping input data to the valid range for imshow with RGB data ([0..1] for floats or [0..255] for integers).\n",
      "Clipping input data to the valid range for imshow with RGB data ([0..1] for floats or [0..255] for integers).\n",
      "Clipping input data to the valid range for imshow with RGB data ([0..1] for floats or [0..255] for integers).\n",
      "Clipping input data to the valid range for imshow with RGB data ([0..1] for floats or [0..255] for integers).\n",
      "Clipping input data to the valid range for imshow with RGB data ([0..1] for floats or [0..255] for integers).\n",
      "Clipping input data to the valid range for imshow with RGB data ([0..1] for floats or [0..255] for integers).\n",
      "Clipping input data to the valid range for imshow with RGB data ([0..1] for floats or [0..255] for integers).\n",
      "Clipping input data to the valid range for imshow with RGB data ([0..1] for floats or [0..255] for integers).\n",
      "Clipping input data to the valid range for imshow with RGB data ([0..1] for floats or [0..255] for integers).\n",
      "Clipping input data to the valid range for imshow with RGB data ([0..1] for floats or [0..255] for integers).\n",
      "Clipping input data to the valid range for imshow with RGB data ([0..1] for floats or [0..255] for integers).\n",
      "Clipping input data to the valid range for imshow with RGB data ([0..1] for floats or [0..255] for integers).\n",
      "Clipping input data to the valid range for imshow with RGB data ([0..1] for floats or [0..255] for integers).\n",
      "Clipping input data to the valid range for imshow with RGB data ([0..1] for floats or [0..255] for integers).\n",
      "Clipping input data to the valid range for imshow with RGB data ([0..1] for floats or [0..255] for integers).\n",
      "Clipping input data to the valid range for imshow with RGB data ([0..1] for floats or [0..255] for integers).\n",
      "Clipping input data to the valid range for imshow with RGB data ([0..1] for floats or [0..255] for integers).\n",
      "Clipping input data to the valid range for imshow with RGB data ([0..1] for floats or [0..255] for integers).\n",
      "Clipping input data to the valid range for imshow with RGB data ([0..1] for floats or [0..255] for integers).\n",
      "Clipping input data to the valid range for imshow with RGB data ([0..1] for floats or [0..255] for integers).\n",
      "Clipping input data to the valid range for imshow with RGB data ([0..1] for floats or [0..255] for integers).\n",
      "Clipping input data to the valid range for imshow with RGB data ([0..1] for floats or [0..255] for integers).\n",
      "Clipping input data to the valid range for imshow with RGB data ([0..1] for floats or [0..255] for integers).\n",
      "Clipping input data to the valid range for imshow with RGB data ([0..1] for floats or [0..255] for integers).\n",
      "Clipping input data to the valid range for imshow with RGB data ([0..1] for floats or [0..255] for integers).\n",
      "Clipping input data to the valid range for imshow with RGB data ([0..1] for floats or [0..255] for integers).\n",
      "Clipping input data to the valid range for imshow with RGB data ([0..1] for floats or [0..255] for integers).\n",
      "Clipping input data to the valid range for imshow with RGB data ([0..1] for floats or [0..255] for integers).\n",
      "Clipping input data to the valid range for imshow with RGB data ([0..1] for floats or [0..255] for integers).\n",
      "Clipping input data to the valid range for imshow with RGB data ([0..1] for floats or [0..255] for integers).\n",
      "Clipping input data to the valid range for imshow with RGB data ([0..1] for floats or [0..255] for integers).\n",
      "Clipping input data to the valid range for imshow with RGB data ([0..1] for floats or [0..255] for integers).\n",
      "Clipping input data to the valid range for imshow with RGB data ([0..1] for floats or [0..255] for integers).\n",
      "Clipping input data to the valid range for imshow with RGB data ([0..1] for floats or [0..255] for integers).\n",
      "Clipping input data to the valid range for imshow with RGB data ([0..1] for floats or [0..255] for integers).\n",
      "Clipping input data to the valid range for imshow with RGB data ([0..1] for floats or [0..255] for integers).\n",
      "Clipping input data to the valid range for imshow with RGB data ([0..1] for floats or [0..255] for integers).\n",
      "Clipping input data to the valid range for imshow with RGB data ([0..1] for floats or [0..255] for integers).\n",
      "Clipping input data to the valid range for imshow with RGB data ([0..1] for floats or [0..255] for integers).\n"
     ]
    }
   ],
   "source": [
    "with torch.no_grad():\n",
    "    state_matrix, state_tensor_list = run_sim(state_matrix,\n",
    "                            # multihead_attn,\n",
    "                            transformer_block,  \n",
    "                            num_iters=num_iters,\n",
    "                            dt=dt,\n",
    "                            noise_factor=noise_factor,\n",
    "                            fig_folder=fig_folder,\n",
    "                            frame_period=frame_period)"
   ]
  },
  {
   "cell_type": "code",
   "execution_count": 38,
   "metadata": {},
   "outputs": [
    {
     "name": "stderr",
     "output_type": "stream",
     "text": [
      "OpenCV: FFMPEG: tag 0x58564944/'DIVX' is not supported with codec id 12 and format 'mp4 / MP4 (MPEG-4 Part 14)'\n",
      "OpenCV: FFMPEG: fallback to use tag 0x7634706d/'mp4v'\n"
     ]
    }
   ],
   "source": [
    "# get the current time as a string \n",
    "import datetime\n",
    "now = datetime.datetime.now()\n",
    "now_str = now.strftime(\"%Y-%m-%d_%H-%M-%S\")\n",
    "\n",
    "png_path = f'../figs/{fig_folder}/*.png'\n",
    "img_array = []\n",
    "for filename in sorted(glob.glob(png_path)): \n",
    "    img = cv2.imread(filename)\n",
    "    height, width, layers = img.shape\n",
    "    size = (width, height)\n",
    "    img_array.append(img)\n",
    "\n",
    "mp4_name = f'../figs/{fig_folder}_{now_str}.mp4'\n",
    "out = cv2.VideoWriter(mp4_name, cv2.VideoWriter_fourcc(*'DIVX'), 15, size)\n",
    "for i in range(len(img_array)):\n",
    "    out.write(img_array[i])\n",
    "out.release()"
   ]
  },
  {
   "cell_type": "code",
   "execution_count": 39,
   "metadata": {},
   "outputs": [
    {
     "name": "stdout",
     "output_type": "stream",
     "text": [
      "Written to  ../figs/anim10_2024-03-01_13-58-47.mp4\n"
     ]
    }
   ],
   "source": [
    "print(\"Written to \", mp4_name)"
   ]
  },
  {
   "cell_type": "code",
   "execution_count": 40,
   "metadata": {},
   "outputs": [
    {
     "data": {
      "text/plain": [
       "tensor([[[ 0.9626,  1.3017,  0.3354,  ..., -1.5118, -0.0146, -0.8772]],\n",
       "\n",
       "        [[ 0.8432,  0.0892,  0.4236,  ..., -1.1995, -0.3329, -0.7056]],\n",
       "\n",
       "        [[ 0.9488,  1.3849,  0.2126,  ..., -0.4422,  0.7956,  0.3574]],\n",
       "\n",
       "        ...,\n",
       "\n",
       "        [[ 0.0780,  0.6647,  1.1861,  ..., -0.6441,  0.3004, -0.8644]],\n",
       "\n",
       "        [[ 0.4278,  1.3094, -0.2695,  ..., -0.4679,  0.1782,  0.4808]],\n",
       "\n",
       "        [[ 0.0386,  1.3517,  0.4476,  ..., -0.6688,  0.0624, -0.6691]]],\n",
       "       device='cuda:0')"
      ]
     },
     "execution_count": 40,
     "metadata": {},
     "output_type": "execute_result"
    }
   ],
   "source": [
    "state_matrix"
   ]
  },
  {
   "cell_type": "code",
   "execution_count": 41,
   "metadata": {},
   "outputs": [
    {
     "name": "stdout",
     "output_type": "stream",
     "text": [
      "Loss:  0.024207565933465958\n"
     ]
    }
   ],
   "source": [
    "# compute loss\n",
    "end_bitmap = RGB_render_particles_to_bitmap(state_matrix[:,0,:], x_res, y_res, sigma=0.03, scale_sigma=True)\n",
    "loss = torch.mean((end_bitmap - target_image) ** 2)\n",
    "print(\"Loss: \", loss.item())"
   ]
  },
  {
   "cell_type": "code",
   "execution_count": null,
   "metadata": {},
   "outputs": [],
   "source": []
  },
  {
   "cell_type": "code",
   "execution_count": null,
   "metadata": {},
   "outputs": [],
   "source": []
  }
 ],
 "metadata": {
  "kernelspec": {
   "display_name": "venv",
   "language": "python",
   "name": "python3"
  },
  "language_info": {
   "codemirror_mode": {
    "name": "ipython",
    "version": 3
   },
   "file_extension": ".py",
   "mimetype": "text/x-python",
   "name": "python",
   "nbconvert_exporter": "python",
   "pygments_lexer": "ipython3",
   "version": "3.10.12"
  }
 },
 "nbformat": 4,
 "nbformat_minor": 2
}
